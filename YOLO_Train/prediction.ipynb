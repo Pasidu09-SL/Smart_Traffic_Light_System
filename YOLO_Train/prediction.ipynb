{
 "cells": [
  {
   "cell_type": "code",
   "execution_count": null,
   "id": "2f2ef065-c4b5-4fce-93fb-f1bd32c589cc",
   "metadata": {},
   "outputs": [
    {
     "name": "stdout",
     "output_type": "stream",
     "text": [
      "\n",
      "0: 640x480 1 ambulance, 207.5ms\n",
      "Speed: 10.1ms preprocess, 207.5ms inference, 2.0ms postprocess per image at shape (1, 3, 640, 480)\n"
     ]
    }
   ],
   "source": [
    "from ultralytics import YOLO\n",
    "import cv2\n",
    "\n",
    "# Load the model\n",
    "model = YOLO('best.pt')\n",
    "\n",
    "# Read the image\n",
    "img = cv2.imread(\"img.jpg\")\n",
    "\n",
    "# Perform detection\n",
    "result = model([img])\n",
    "\n",
    "# Initialize List to store detected boxes and labels\n",
    "detect = []\n",
    "\n",
    "# Iterate over detected boxes\n",
    "for box in result[0].boxes:\n",
    "    if box.conf[0].item() > 0.20:\n",
    "        cords = box.xyxy[0].tolist()\n",
    "        cords = [round(x) for x in cords]\n",
    "        x1, y1, x2, y2 = cords\n",
    "        # Get the Label\n",
    "        label = box.cls[0].item()  # box.cls contains the class index\n",
    "        \n",
    "        # Convert class index to class name if available\n",
    "        class_names = ['Ambulance']  # Class names\n",
    "        class_name = class_names[int(label)]\n",
    "        \n",
    "        # Add the detected box and label to the List\n",
    "        detect.append((x1, y1, x2, y2, class_name))\n",
    "\n",
    "# Draw bounding boxes with labels\n",
    "for (x1, y1, x2, y2, class_name) in detect:\n",
    "    # Draw the bounding box\n",
    "    cv2.rectangle(img, (x1, y1), (x2, y2), color=(0, 0, 255), thickness=2)\n",
    "\n",
    "    # Create the label text\n",
    "    label_text = f\"{class_name}\"\n",
    "\n",
    "    # Choose a font and calculate the label size\n",
    "    font = cv2.FONT_HERSHEY_SIMPLEX\n",
    "    font_scale = 0.5\n",
    "    font_thickness = 1\n",
    "    label_size = cv2.getTextSize(label_text, font, font_scale, font_thickness)[0]\n",
    "\n",
    "    # Set the label background coordinates\n",
    "    label_background = (x1, y1 - label_size[1] - 10, x1 + label_size[0], y1)\n",
    "\n",
    "    # Draw label background rectangle\n",
    "    cv2.rectangle(img, (label_background[0], label_background[1]), \n",
    "                  (label_background[2], label_background[3]), (0, 0, 255), -1)\n",
    "\n",
    "    # Put the label text above the bounding box\n",
    "    cv2.putText(img, label_text, (x1, y1 - 5), font, font_scale, (255, 255, 255), font_thickness)\n",
    "\n",
    "# Display the image\n",
    "cv2.imshow('Image', img)\n",
    "cv2.waitKey(0)\n",
    "cv2.destroyAllWindows()"
   ]
  },
  {
   "cell_type": "code",
   "execution_count": null,
   "id": "f477cf97-5b5f-401c-bbe3-f6b7e3d1aebb",
   "metadata": {},
   "outputs": [],
   "source": []
  }
 ],
 "metadata": {
  "kernelspec": {
   "display_name": "Python 3 (ipykernel)",
   "language": "python",
   "name": "python3"
  },
  "language_info": {
   "codemirror_mode": {
    "name": "ipython",
    "version": 3
   },
   "file_extension": ".py",
   "mimetype": "text/x-python",
   "name": "python",
   "nbconvert_exporter": "python",
   "pygments_lexer": "ipython3",
   "version": "3.12.3"
  }
 },
 "nbformat": 4,
 "nbformat_minor": 5
}
