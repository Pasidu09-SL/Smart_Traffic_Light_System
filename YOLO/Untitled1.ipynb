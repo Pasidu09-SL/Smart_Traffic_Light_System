{
 "cells": [
  {
   "cell_type": "code",
   "execution_count": 1,
   "id": "45335f0a-2082-4f2e-ad16-1f39054819e3",
   "metadata": {},
   "outputs": [
    {
     "name": "stdout",
     "output_type": "stream",
     "text": [
      "\n",
      "0: 448x640 6 persons, 9 cars, 1 truck, 428.3ms\n",
      "Speed: 3.6ms preprocess, 428.3ms inference, 5.5ms postprocess per image at shape (1, 3, 448, 640)\n"
     ]
    }
   ],
   "source": [
    "from ultralytics import YOLO\n",
    "import cv2\n",
    "import matplotlib.pyplot as plt # for mac\n",
    "\n",
    "model = YOLO('yolov8x.pt')\n",
    "img = cv2.imread('041.jpg')\n",
    "result = model(img)"
   ]
  },
  {
   "cell_type": "code",
   "execution_count": 2,
   "id": "7cd76195-db31-44a1-8c95-16a54479190f",
   "metadata": {},
   "outputs": [],
   "source": [
    "objects = []\n",
    "for box in (result[0].boxes):\n",
    "    if box.cls[0].item() == 2:\n",
    "        cords = (box.xyxy[0].tolist())\n",
    "        cords = [round(x)for x in cords]\n",
    "        x1,y1,x2,y2 = cords\n",
    "        top_cord = x1,y1\n",
    "        bot_cord = x2,y2\n",
    "        objects.append((top_cord,bot_cord))\n",
    "for top_cord, bot_cord in objects:\n",
    "    cv2.rectangle(img, top_cord, bot_cord, color=(0, 0, 255), thickness=1)"
   ]
  },
  {
   "cell_type": "code",
   "execution_count": 3,
   "id": "3b5d54ab-79fb-4a9c-ae01-8d1c29dee0a2",
   "metadata": {},
   "outputs": [],
   "source": [
    "objects = []\n",
    "for box in (result[0].boxes):\n",
    "    if box.cls[0].item() == 0:\n",
    "        cords = (box.xyxy[0].tolist())\n",
    "        cords = [round(x)for x in cords]\n",
    "        x1,y1,x2,y2 = cords\n",
    "        top_cord = x1,y1\n",
    "        bot_cord = x2,y2\n",
    "        objects.append((top_cord,bot_cord))\n",
    "for top_cord, bot_cord in objects:\n",
    "    cv2.rectangle(img, top_cord, bot_cord, color=(255, 0, 0), thickness=1)"
   ]
  },
  {
   "cell_type": "code",
   "execution_count": 4,
   "id": "a7cf5cf9-8b3b-4efa-b87d-7075d14744fe",
   "metadata": {},
   "outputs": [],
   "source": [
    "cv2.imshow('Image', img)\n",
    "\n",
    "# Fix for macOS\n",
    "cv2.waitKey(1)  # Short delay to display the image\n",
    "cv2.destroyAllWindows()"
   ]
  },
  {
   "cell_type": "code",
   "execution_count": null,
   "id": "97373a08-0426-4412-b1ea-45d1a6e84de5",
   "metadata": {},
   "outputs": [],
   "source": []
  }
 ],
 "metadata": {
  "kernelspec": {
   "display_name": "Python 3 (ipykernel)",
   "language": "python",
   "name": "python3"
  },
  "language_info": {
   "codemirror_mode": {
    "name": "ipython",
    "version": 3
   },
   "file_extension": ".py",
   "mimetype": "text/x-python",
   "name": "python",
   "nbconvert_exporter": "python",
   "pygments_lexer": "ipython3",
   "version": "3.13.2"
  }
 },
 "nbformat": 4,
 "nbformat_minor": 5
}
